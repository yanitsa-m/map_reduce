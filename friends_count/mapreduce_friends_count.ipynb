{
 "cells": [
  {
   "cell_type": "markdown",
   "metadata": {},
   "source": [
    "## MapReduce in Python\n",
    "### Exercise 2: Friends Count\n"
   ]
  },
  {
   "cell_type": "markdown",
   "metadata": {},
   "source": [
    "*Python 3.6.1*\n",
    "\n",
    "-  The task is to count the number of friends for each unique person who is represented by his or her first name. The data is in the friends.json file.\n",
    "\n",
    "#### Mapper Input\n",
    "\n",
    "-  Each input record is a 2 element list `[personA, personB]` where `personA` is a string representing the name of a person and `personB` is a string representing the name of one of `personA`'s friends. Note that it may or may not be the case that the `personA` is a friend of `personB`.\n",
    "\n",
    "#### Reducer Output\n",
    "\n",
    "-  The output should be a pair `(person, friend_count)` where `person` is a string and `friend_count` is an integer indicating the number of friends associated with person."
   ]
  },
  {
   "cell_type": "code",
   "execution_count": null,
   "metadata": {
    "collapsed": true
   },
   "outputs": [],
   "source": [
    "import MapReduce\n",
    "import sys\n",
    "\n",
    "\"\"\"\n",
    "Friends Count in the Python MapReduce Framework\n",
    "Input: (personA, personB)\n",
    "Mapper Output: (personA, 1), (personA, 1)...(personB, 1),...etc.\n",
    "Reducer Output: (personA, total_friends), (personB, total_friends)\n",
    "\"\"\"\n",
    "\n",
    "mr = MapReduce.MapReduce()"
   ]
  },
  {
   "cell_type": "markdown",
   "metadata": {},
   "source": [
    "-  The output of the Mapper will be a key, value pair of a person's name and a count of 1. The person's name is the **key** ie.only the **left hand** part of the record."
   ]
  },
  {
   "cell_type": "code",
   "execution_count": null,
   "metadata": {
    "collapsed": true
   },
   "outputs": [],
   "source": [
    "def mapper(record):\n",
    "    # Input = (key: personA, value: personB)\n",
    "    # Output = (key: person, value: 1)\n",
    "    key = record[0]\n",
    "    value = record[1]\n",
    "    mr.emit_intermediate(key, 1)"
   ]
  },
  {
   "cell_type": "markdown",
   "metadata": {},
   "source": [
    "-  The output of the Reducer is a person's name and the aggregated count of friends."
   ]
  },
  {
   "cell_type": "code",
   "execution_count": null,
   "metadata": {
    "collapsed": true
   },
   "outputs": [],
   "source": [
    "def reducer(key, list_of_values):\n",
    "    # Input = (key: person, value: 1)\n",
    "    # Output = (key: person, value: total count of friends)  \n",
    "    total = 0\n",
    "    for v in list_of_values:\n",
    "        total += v\n",
    "    mr.emit((key, total))"
   ]
  },
  {
   "cell_type": "code",
   "execution_count": null,
   "metadata": {
    "collapsed": true
   },
   "outputs": [],
   "source": [
    "if __name__ == '__main__':\n",
    "    inputdata = open(sys.argv[1])\n",
    "    mr.execute(inputdata, mapper, reducer)"
   ]
  }
 ],
 "metadata": {
  "kernelspec": {
   "display_name": "Python 3",
   "language": "python",
   "name": "python3"
  },
  "language_info": {
   "codemirror_mode": {
    "name": "ipython",
    "version": 3
   },
   "file_extension": ".py",
   "mimetype": "text/x-python",
   "name": "python",
   "nbconvert_exporter": "python",
   "pygments_lexer": "ipython3",
   "version": "3.6.1"
  }
 },
 "nbformat": 4,
 "nbformat_minor": 2
}
