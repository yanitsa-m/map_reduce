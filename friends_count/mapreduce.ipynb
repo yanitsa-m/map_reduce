{
 "cells": [
  {
   "cell_type": "markdown",
   "metadata": {},
   "source": [
    "## MapReduce in Python\n",
    "### Class MapReduce\n",
    "\n",
    "*Python 3.6.1*\n",
    "\n",
    "-  This class represents the MapReduce programming model and will be used to implement different MapReduce tasks.\n"
   ]
  },
  {
   "cell_type": "code",
   "execution_count": null,
   "metadata": {
    "collapsed": true
   },
   "outputs": [],
   "source": [
    "import json\n",
    "\n",
    "class MapReduce:\n",
    "    def __init__(self):\n",
    "        self.intermediate = {}\n",
    "        self.result = []\n",
    "\n",
    "    def emit_intermediate(self, key, value):\n",
    "        self.intermediate.setdefault(key, [])\n",
    "        self.intermediate[key].append(value)\n",
    "\n",
    "    def emit(self, value):\n",
    "        self.result.append(value) \n",
    "\n",
    "    def execute(self, data, mapper, reducer):\n",
    "        for line in data:\n",
    "            record = json.loads(line)\n",
    "            mapper(record)\n",
    "\n",
    "        for key in self.intermediate:\n",
    "            reducer(key, self.intermediate[key])\n",
    "\n",
    "        #jenc = json.JSONEncoder(encoding='latin-1')\n",
    "        jenc = json.JSONEncoder()\n",
    "        for item in self.result:\n",
    "            print(jenc.encode(item))\n"
   ]
  }
 ],
 "metadata": {
  "kernelspec": {
   "display_name": "Python 3",
   "language": "python",
   "name": "python3"
  },
  "language_info": {
   "codemirror_mode": {
    "name": "ipython",
    "version": 3
   },
   "file_extension": ".py",
   "mimetype": "text/x-python",
   "name": "python",
   "nbconvert_exporter": "python",
   "pygments_lexer": "ipython3",
   "version": "3.6.1"
  }
 },
 "nbformat": 4,
 "nbformat_minor": 2
}
