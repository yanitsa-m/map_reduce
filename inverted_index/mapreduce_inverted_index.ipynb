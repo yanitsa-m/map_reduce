{
 "cells": [
  {
   "cell_type": "markdown",
   "metadata": {},
   "source": [
    "## MapReduce in Python\n",
    "### Exercise 1: Inverted Index"
   ]
  },
  {
   "cell_type": "markdown",
   "metadata": {},
   "source": [
    "*Python 3.6.1*"
   ]
  },
  {
   "cell_type": "markdown",
   "metadata": {},
   "source": [
    "-  An inverted index is a primitive method for text retrieval. You can think of the functionality of a search engine where you wish to search with keywords and get a result of a list of documents containing those words.\n",
    "\n",
    "#### Mapper Input\n",
    "-  The input for this task is a JSON file containing 2-element lists of `[document_id, document_text]` objects where each attribute is a String type. <br />\n",
    "-  Any type of sets of documents can be used, but in this example I am using the books.JSON file containing a list of of book titles and the text of that book. <br />\n",
    "\n",
    "#### Reducer Output\n",
    "-  The output should be a `[word, [document_ID list]]` tuple where word is a String and document ID list is a list of Strings."
   ]
  },
  {
   "cell_type": "code",
   "execution_count": 6,
   "metadata": {
    "collapsed": true
   },
   "outputs": [],
   "source": [
    "import MapReduce\n",
    "import sys\n",
    "\n",
    "\"\"\"\n",
    "Inverted Index in the Python MapReduce Framework\n",
    "Input: (document_id, document_text)\n",
    "Mapper Output: (word1, document_id1), (word1, document_id2)...etc.\n",
    "Reducer Output: (word, [list of document_id's])\n",
    "\"\"\"\n",
    "\n",
    "mr = MapReduce.MapReduce() "
   ]
  },
  {
   "cell_type": "code",
   "execution_count": 3,
   "metadata": {
    "collapsed": true
   },
   "outputs": [],
   "source": [
    "def mapper(record):\n",
    "    # Input = (key: document id, value: document text)\n",
    "    # Output = (key: word, value: document id)\n",
    "    key = record[0]\n",
    "    value = record[1]\n",
    "    words = value.split()\n",
    "    for w in words:\n",
    "        mr.emit_intermediate(w, record[0])"
   ]
  },
  {
   "cell_type": "code",
   "execution_count": 4,
   "metadata": {
    "collapsed": true
   },
   "outputs": [],
   "source": [
    "def reducer(key, list_of_values):\n",
    "    # Input = (key: word, value: document id)\n",
    "    # Output = (key: word, value: list of document ids)\n",
    "    list_docs = []\n",
    "    for v in list_of_values:\n",
    "        list_docs.append(v)\n",
    "    mr.emit((key, list_docs))"
   ]
  },
  {
   "cell_type": "code",
   "execution_count": null,
   "metadata": {
    "collapsed": true
   },
   "outputs": [],
   "source": [
    "if __name__ == '__main__':\n",
    "    inputdata = open(sys.argv[1])\n",
    "    mr.execute(inputdata, mapper, reducer)"
   ]
  }
 ],
 "metadata": {
  "kernelspec": {
   "display_name": "Python 3",
   "language": "python",
   "name": "python3"
  },
  "language_info": {
   "codemirror_mode": {
    "name": "ipython",
    "version": 3
   },
   "file_extension": ".py",
   "mimetype": "text/x-python",
   "name": "python",
   "nbconvert_exporter": "python",
   "pygments_lexer": "ipython3",
   "version": "3.6.1"
  }
 },
 "nbformat": 4,
 "nbformat_minor": 2
}
