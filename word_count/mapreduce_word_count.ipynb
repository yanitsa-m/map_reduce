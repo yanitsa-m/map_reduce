{
 "cells": [
  {
   "cell_type": "markdown",
   "metadata": {},
   "source": [
    "## MapReduce in Python\n",
    "### Exercise 0: Word Count"
   ]
  },
  {
   "cell_type": "markdown",
   "metadata": {},
   "source": [
    "*Python 3.6.1*\n",
    "\n",
    "-  The Word Count is the canonical MapReduce task where the goal is to count the occurrences of words in a list of documents. \n",
    "-  First we tokenize the document and split text into a list of individual words. (Note: Punctuation is counted as a word in this example). \n",
    "-  The **Mapper** emits key-value pairs of words and individual counts of 1. \n",
    "-  The **Reducer** aggregates each individual count for a word and emits a key-value pair of word and total count of occurrences in all the documents.\n"
   ]
  },
  {
   "cell_type": "markdown",
   "metadata": {},
   "source": [
    "-  In Part 1, we create a MapReduce object that is used to pass data between the map function and the reduce function."
   ]
  },
  {
   "cell_type": "code",
   "execution_count": 3,
   "metadata": {
    "collapsed": true
   },
   "outputs": [],
   "source": [
    "import MapReduce\n",
    "import sys\n",
    "\n",
    "\"\"\"\n",
    "Word Count in the Python MapReduce Framework\n",
    "Input: (document_id, document_text)\n",
    "Mapper Output: (word1, 1), (word1, 1)...etc.\n",
    "Reducer Output: (word, total count)\n",
    "\"\"\"\n",
    "\n",
    "mr = MapReduce.MapReduce()"
   ]
  },
  {
   "cell_type": "markdown",
   "metadata": {},
   "source": [
    "-  In Part 2, the mapper function tokenizes each document and emits a key-value pair. The key is a word formatted as a string and the value is the integer 1 to indicate an occurrence of word.\n"
   ]
  },
  {
   "cell_type": "code",
   "execution_count": null,
   "metadata": {
    "collapsed": true
   },
   "outputs": [],
   "source": [
    "def mapper(record):\n",
    "    # Input = (key: document id, value: document contents)\n",
    "    # Output = (key: word, value: 1)\n",
    "    key = record[0]\n",
    "    value = record[1]\n",
    "    words = value.split()\n",
    "    for w in words:\n",
    "        mr.emit_intermediate(w, 1)"
   ]
  },
  {
   "cell_type": "markdown",
   "metadata": {},
   "source": [
    "-  In Part 3, the reducer function sums up the list of occurrence counts and emits a count for word. Since the mapper function emits the integer 1 for each word, each element in the `list_of_values` is the integer 1.\n",
    "\n",
    "-  The list of occurrence counts is summed and a `(word, total)` tuple is emitted where word is a string and total is an integer."
   ]
  },
  {
   "cell_type": "code",
   "execution_count": 4,
   "metadata": {
    "collapsed": true
   },
   "outputs": [],
   "source": [
    "def reducer(key, list_of_values):\n",
    "    # Input = (key: word, value: 1)\n",
    "    # Output = (key: word, value: total count of occurrences)  \n",
    "    total = 0\n",
    "    for v in list_of_values:\n",
    "        total += v\n",
    "    mr.emit((key, total))"
   ]
  },
  {
   "cell_type": "markdown",
   "metadata": {},
   "source": [
    "-  In Part 4, the code loads the json file and executes the MapReduce query which prints the result to stdout."
   ]
  },
  {
   "cell_type": "code",
   "execution_count": null,
   "metadata": {
    "collapsed": true
   },
   "outputs": [],
   "source": [
    "if __name__ == '__main__':\n",
    "    inputdata = open(sys.argv[1])\n",
    "    mr.execute(inputdata, mapper, reducer)"
   ]
  }
 ],
 "metadata": {
  "kernelspec": {
   "display_name": "Python 3",
   "language": "python",
   "name": "python3"
  },
  "language_info": {
   "codemirror_mode": {
    "name": "ipython",
    "version": 3
   },
   "file_extension": ".py",
   "mimetype": "text/x-python",
   "name": "python",
   "nbconvert_exporter": "python",
   "pygments_lexer": "ipython3",
   "version": "3.6.1"
  }
 },
 "nbformat": 4,
 "nbformat_minor": 2
}
